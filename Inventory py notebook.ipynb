{
 "cells": [
  {
   "cell_type": "code",
   "execution_count": 5,
   "id": "b9977095",
   "metadata": {},
   "outputs": [],
   "source": [
    "import json\n",
    "import time\n",
    "\n",
    "fd = open('Records.json' , 'r')\n",
    "js = fd.read()\n",
    "fd.close\n",
    "\n",
    "record = json.loads(js)\n"
   ]
  },
  {
   "cell_type": "code",
   "execution_count": 6,
   "id": "4354aab6",
   "metadata": {},
   "outputs": [
    {
     "name": "stdout",
     "output_type": "stream",
     "text": [
      "------------MENU------------\n",
      "1001 : Cadburry | 50 | 0\n",
      "1002 : Dairy Milk | 25 | 180\n",
      "1003 : Candy | 2 | 1400\n",
      "1004 : Cake | 500 | 0\n",
      "1005 : Pastry | 200 | 0\n",
      "----------------------------\n",
      "Enter your namegyanesh\n",
      "Enter your email_idayvdasy\n",
      "Enter your phone-numberasdsiad\n",
      "Enter the product ID 1003\n",
      "Enter the product amount 600\n",
      "-----------------------------------\n",
      "               BILL              \n",
      "\n",
      "Name             :  Candy\n",
      "Price            :  2\n",
      "Quantity         :  600\n",
      "-----------------------------------\n",
      "Billing Amount   :  1200\n",
      "-----------------------------------\n",
      "Discount         :  120.0\n",
      "-----------------------------------\n",
      "Payable Amount   :  1080.0\n",
      "-----------------------------------\n"
     ]
    }
   ],
   "source": [
    "print(\"------------MENU------------\")\n",
    "\n",
    "for key in record.keys():\n",
    "    print(key,\":\", record[key]['Name'], '|', record[key]['Price'], '|', record[key]['Qn'])\n",
    "    \n",
    "print(\"----------------------------\")\n",
    "\n",
    "ui_name = input(\"Enter your name\")\n",
    "ui_mail = input(\"Enter your email_id\")\n",
    "ui_ph = input(\"Enter your phone-number\")\n",
    "ui_pr = input(\"Enter the product ID \")\n",
    "ui_qn = int(input(\"Enter the product amount \"))\n",
    "sales= \"\"\n",
    "\n",
    "if(record[ui_pr]['Qn'] >= ui_qn):\n",
    "    record[ui_pr]['Qn'] = record[ui_pr]['Qn'] - ui_qn\n",
    "    bill = record[ui_pr]['Price'] * ui_qn\n",
    "\n",
    "    print(\"-----------------------------------\")\n",
    "    print(\"               BILL              \\n\")\n",
    "\n",
    "    print(\"Name             : \", record[ui_pr]['Name'])\n",
    "    print(\"Price            : \", record[ui_pr]['Price'])\n",
    "    print(\"Quantity         : \", ui_qn)\n",
    "\n",
    "    print(\"-----------------------------------\")\n",
    "    print(\"Billing Amount   : \", record[ui_pr]['Price'] * ui_qn)\n",
    "    print(\"-----------------------------------\")\n",
    "    \n",
    "    sales = '1' + \",\" + ui_name + \",\" + ui_mail + \",\" + ui_ph + \",\" + ui_pr + \",\" + record[ui_pr]['Name'] + \",\" + str(ui_qn) + \",\" + str(record[ui_pr]['Price'])+ \",\" + str(record[ui_pr]['Price'] * ui_qn) + \",\" + time.ctime()\n",
    "    \n",
    "else:\n",
    "    print(\"Sorry, not having enough quantity\")\n",
    "    print(\"Only \", record[ui_pr]['Qn'], \" available\")\n",
    "    print(\"-----------------------------------\")\n",
    "    ch = input(\"Do you want to purchase more quantity?\")\n",
    "    bill = record[ui_pr]['Price'] * record[ui_pr]['Qn']\n",
    "    \n",
    "    if(ch == 'Y' or ch == 'y'):\n",
    "        print(\"-----------------------------------\")\n",
    "        print(\"               BILL              \\n\")\n",
    "\n",
    "        print(\"Name             : \", record[ui_pr]['Name'])\n",
    "        print(\"Price            : \", record[ui_pr]['Price'])\n",
    "        print(\"Quantity         : \", record[ui_pr]['Qn'])\n",
    "\n",
    "        print(\"-----------------------------------\")\n",
    "        print(\"Billing Amount   : \", record[ui_pr]['Price'] * record[ui_pr]['Qn'])\n",
    "        print(\"-----------------------------------\")\n",
    "        \n",
    "        sales = '1' + \",\" + ui_name + \",\" + ui_mail + \",\" + ui_ph + \",\" + ui_pr + \",\" + record[ui_pr]['Name'] + \",\" + str(record[ui_pr]['Qn']) + \",\" + str(record[ui_pr]['Price'])+ \",\" + str(record[ui_pr]['Price'] * record[ui_pr]['Qn']) + \",\" + time.ctime()\n",
    "        \n",
    "        record[ui_pr]['Qn'] = 0\n",
    "        \n",
    "    else:\n",
    "        print(\"Thanks!\")\n",
    "        \n",
    "if(bill > 1000):\n",
    "    discount = bill*0.1\n",
    "    \n",
    "    print(\"Discount         : \", discount)\n",
    "    print(\"-----------------------------------\")\n",
    "    print(\"Payable Amount   : \", bill-discount)\n",
    "    print(\"-----------------------------------\")\n",
    "\n",
    "\n",
    "\n",
    "js = json.dumps(record)\n",
    "\n",
    "fd = open('Records.json', 'w')\n",
    "fd.write(js)\n",
    "fd.close()\n",
    "\n",
    "fd = open('Sales.txt', 'a')\n",
    "fd.write(sales)\n",
    "fd.close()"
   ]
  },
  {
   "cell_type": "code",
   "execution_count": 4,
   "id": "ef34f625",
   "metadata": {},
   "outputs": [
    {
     "data": {
      "text/plain": [
       "{'1001': {'Name': 'Cadburry', 'Price': 50, 'Qn': 0},\n",
       " '1002': {'Name': 'Dairy Milk', 'Price': 25, 'Qn': 180},\n",
       " '1003': {'Name': 'Candy', 'Price': 2, 'Qn': 1400},\n",
       " '1004': {'Name': 'Cake', 'Price': 500, 'Qn': 0},\n",
       " '1005': {'Name': 'Pastry', 'Price': 200, 'Qn': 0}}"
      ]
     },
     "execution_count": 4,
     "metadata": {},
     "output_type": "execute_result"
    }
   ],
   "source": [
    "record"
   ]
  },
  {
   "cell_type": "code",
   "execution_count": null,
   "id": "4a2d20af",
   "metadata": {},
   "outputs": [],
   "source": []
  }
 ],
 "metadata": {
  "kernelspec": {
   "display_name": "Python 3 (ipykernel)",
   "language": "python",
   "name": "python3"
  },
  "language_info": {
   "codemirror_mode": {
    "name": "ipython",
    "version": 3
   },
   "file_extension": ".py",
   "mimetype": "text/x-python",
   "name": "python",
   "nbconvert_exporter": "python",
   "pygments_lexer": "ipython3",
   "version": "3.10.9"
  }
 },
 "nbformat": 4,
 "nbformat_minor": 5
}
